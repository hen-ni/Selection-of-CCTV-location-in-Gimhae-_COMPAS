{
 "cells": [
  {
   "cell_type": "code",
   "execution_count": 1,
   "id": "polyphonic-synthesis",
   "metadata": {},
   "outputs": [
    {
     "name": "stdout",
     "output_type": "stream",
     "text": [
      "[2022-08-19 01:56:32] 성공 - data/1.김해시_CCTV설치현황.csv\n",
      "[2022-08-19 01:56:32] 성공 - data/2.김해시_주차장현황.csv\n",
      "[2022-08-19 01:56:36] 성공 - data/3.김해시_성연령별_요일별_유동인구.zip\n",
      "[2022-08-19 01:56:37] 성공 - data/4.김해시_112신고이력(격자매핑).csv\n",
      "[2022-08-19 01:56:37] 성공 - data/5.김해시_격자(100X100).geojson\n",
      "[2022-08-19 01:56:37] 성공 - data/6.김해시_보안등설치현황.csv\n",
      "[2022-08-19 01:56:37] 성공 - data/7.김해시_안전비상벨설치현황.csv\n",
      "[2022-08-19 01:56:37] 성공 - data/8.김해시_공원현황.geojson\n",
      "[2022-08-19 01:56:37] 성공 - data/9.김해시_하천현황.geojson\n",
      "[2022-08-19 01:56:38] 성공 - data/10.김해시_성연령별_거주인구격자.geojson\n",
      "[2022-08-19 01:56:39] 성공 - data/11.김해시_외국인_읍면동별_격자.geojson\n",
      "[2022-08-19 01:56:40] 성공 - data/12.김해시_건물노후도.geojson\n",
      "[2022-08-19 01:56:42] 성공 - data/13.김해시_도로명주소(건물).geojson\n",
      "[2022-08-19 01:56:42] 성공 - data/14.김해시_법정경계(읍면동).geojson\n",
      "[2022-08-19 01:56:42] 성공 - data/15.김해시_행정경계(읍면동).geojson\n",
      "[2022-08-19 01:56:47] 성공 - data/16.김해시_토지소유정보.geojson\n",
      "[2022-08-19 01:56:47] 성공 - data/17.김해시_어린이집현황.csv\n",
      "[2022-08-19 01:56:47] 성공 - data/18.김해시_유치원현황.csv\n",
      "[2022-08-19 01:56:47] 성공 - data/19.김해시_학교(초,중,고)현황.csv\n",
      "[2022-08-19 01:56:48] 성공 - data/20.김해시_치안_유관업종_현황.csv\n",
      "[2022-08-19 01:56:48] 성공 - data/21.김해시_아동안전지킴이집_현황.csv\n"
     ]
    },
    {
     "name": "stderr",
     "output_type": "stream",
     "text": [
      "/opt/app-root/lib/python3.6/site-packages/geopandas/_compat.py:110: UserWarning: The Shapely GEOS version (3.8.0-CAPI-1.13.1 ) is incompatible with the GEOS version PyGEOS was compiled with (3.9.0-CAPI-1.16.2). Conversions between both will be slow.\n",
      "  shapely_geos_version, geos_capi_version_string\n"
     ]
    },
    {
     "data": {
      "text/plain": [
       "\"\\ndf_1 = pd.read_csv('data/1.김해시_CCTV설치현황.csv')\\ndf_2 = pd.read_csv('data/2.김해시_주차장현황.csv')\\ndf_3_1 = pd.read_csv('data/김해시_요일별_성연령별_유동인구.csv')\\ndf_3_2 = pd.read_csv('data/김해시_유동인구_CELLPOINT.csv')\\ndf_4 = pd.read_csv('data/4.김해시_112신고이력(격자매핑).csv')\\ndf_5 = gpd.read_file('data/5.김해시_격자(100X100).geojson')\\ndf_6 = pd.read_csv('data/6.김해시_보안등설치현황.csv')\\ndf_7 = pd.read_csv('data/7.김해시_안전비상벨설치현황.csv')\\ndf_8 = gpd.read_file('data/8.김해시_공원현황.geojson')\\ndf_9 = gpd.read_file('data/9.김해시_하천현황.geojson')\\ndf_10 = gpd.read_file('data/10.김해시_성연령별_거주인구격자.geojson')\\ndf_11 = gpd.read_file('data/11.김해시_외국인_읍면동별_격자.geojson')\\ndf_12 = gpd.read_file('data/12.김해시_건물노후도.geojson')\\ndf_13 = gpd.read_file('data/13.김해시_도로명주소(건물).geojson')\\ndf_14 = gpd.read_file('data/14.김해시_법정경계(읍면동).geojson')\\ndf_15 = gpd.read_file('data/15.김해시_행정경계(읍면동).geojson')\\ndf_16 = gpd.read_file('data/16.김해시_토지소유정보.geojson')\\ndf_17 = pd.read_csv('data/17.김해시_어린이집현황.csv')\\ndf_18 = pd.read_csv('data/18.김해시_유치원현황.csv')\\ndf_19 = pd.read_csv('data/19.김해시_학교(초,중,고)현황.csv')\\ndf_20 = pd.read_csv('data/20.김해시_치안_유관업종_현황.csv')\\ndf_21 = pd.read_csv('data/21.김해시_아동안전지킴이집_현황.csv')\\n\""
      ]
     },
     "execution_count": 1,
     "metadata": {},
     "output_type": "execute_result"
    }
   ],
   "source": [
    "from geoband.API import *\n",
    "GetCompasData('SBJ_2206_001', '1', 'data/1.김해시_CCTV설치현황.csv')\n",
    "GetCompasData('SBJ_2206_001', '2', 'data/2.김해시_주차장현황.csv')\n",
    "GetCompasData('SBJ_2206_001', '3', 'data/3.김해시_성연령별_요일별_유동인구.zip')\n",
    "GetCompasData('SBJ_2206_001', '25', 'data/4.김해시_112신고이력(격자매핑).csv')\n",
    "GetCompasData('SBJ_2206_001', '5', 'data/5.김해시_격자(100X100).geojson')\n",
    "GetCompasData('SBJ_2206_001', '6', 'data/6.김해시_보안등설치현황.csv')\n",
    "GetCompasData('SBJ_2206_001', '28', 'data/7.김해시_안전비상벨설치현황.csv')\n",
    "GetCompasData('SBJ_2206_001', '26', 'data/8.김해시_공원현황.geojson')\n",
    "GetCompasData('SBJ_2206_001', '9', 'data/9.김해시_하천현황.geojson')\n",
    "GetCompasData('SBJ_2206_001', '22', 'data/10.김해시_성연령별_거주인구격자.geojson')\n",
    "GetCompasData('SBJ_2206_001', '11', 'data/11.김해시_외국인_읍면동별_격자.geojson')\n",
    "GetCompasData('SBJ_2206_001', '23', 'data/12.김해시_건물노후도.geojson')\n",
    "GetCompasData('SBJ_2206_001', '13', 'data/13.김해시_도로명주소(건물).geojson')\n",
    "GetCompasData('SBJ_2206_001', '14', 'data/14.김해시_법정경계(읍면동).geojson')\n",
    "GetCompasData('SBJ_2206_001', '15', 'data/15.김해시_행정경계(읍면동).geojson')\n",
    "GetCompasData('SBJ_2206_001', '27', 'data/16.김해시_토지소유정보.geojson')\n",
    "GetCompasData('SBJ_2206_001', '17', 'data/17.김해시_어린이집현황.csv')\n",
    "GetCompasData('SBJ_2206_001', '18', 'data/18.김해시_유치원현황.csv')\n",
    "GetCompasData('SBJ_2206_001', '19', 'data/19.김해시_학교(초,중,고)현황.csv')\n",
    "GetCompasData('SBJ_2206_001', '24', 'data/20.김해시_치안_유관업종_현황.csv')\n",
    "GetCompasData('SBJ_2206_001', '21', 'data/21.김해시_아동안전지킴이집_현황.csv')\n",
    "# zip 파일 풀기\n",
    "import zipfile\n",
    "\n",
    "with zipfile.ZipFile('data/3.김해시_성연령별_요일별_유동인구.zip', 'r') as zf:\n",
    "    zipinfo = zf.infolist()\n",
    "    for info in zipinfo:\n",
    "        info.filename = info.filename.encode('cp437').decode('euc-kr')\n",
    "        zf.extract(info, './data/')\n",
    "# 라이브러리\n",
    "import json\n",
    "import numpy as np\n",
    "import pandas as pd\n",
    "import geopandas as gpd\n",
    "import folium\n",
    "import matplotlib.pyplot as plt\n",
    "import cartopy.crs as ccrs\n",
    "\"\"\"\n",
    "df_1 = pd.read_csv('data/1.김해시_CCTV설치현황.csv')\n",
    "df_2 = pd.read_csv('data/2.김해시_주차장현황.csv')\n",
    "df_3_1 = pd.read_csv('data/김해시_요일별_성연령별_유동인구.csv')\n",
    "df_3_2 = pd.read_csv('data/김해시_유동인구_CELLPOINT.csv')\n",
    "df_4 = pd.read_csv('data/4.김해시_112신고이력(격자매핑).csv')\n",
    "df_5 = gpd.read_file('data/5.김해시_격자(100X100).geojson')\n",
    "df_6 = pd.read_csv('data/6.김해시_보안등설치현황.csv')\n",
    "df_7 = pd.read_csv('data/7.김해시_안전비상벨설치현황.csv')\n",
    "df_8 = gpd.read_file('data/8.김해시_공원현황.geojson')\n",
    "df_9 = gpd.read_file('data/9.김해시_하천현황.geojson')\n",
    "df_10 = gpd.read_file('data/10.김해시_성연령별_거주인구격자.geojson')\n",
    "df_11 = gpd.read_file('data/11.김해시_외국인_읍면동별_격자.geojson')\n",
    "df_12 = gpd.read_file('data/12.김해시_건물노후도.geojson')\n",
    "df_13 = gpd.read_file('data/13.김해시_도로명주소(건물).geojson')\n",
    "df_14 = gpd.read_file('data/14.김해시_법정경계(읍면동).geojson')\n",
    "df_15 = gpd.read_file('data/15.김해시_행정경계(읍면동).geojson')\n",
    "df_16 = gpd.read_file('data/16.김해시_토지소유정보.geojson')\n",
    "df_17 = pd.read_csv('data/17.김해시_어린이집현황.csv')\n",
    "df_18 = pd.read_csv('data/18.김해시_유치원현황.csv')\n",
    "df_19 = pd.read_csv('data/19.김해시_학교(초,중,고)현황.csv')\n",
    "df_20 = pd.read_csv('data/20.김해시_치안_유관업종_현황.csv')\n",
    "df_21 = pd.read_csv('data/21.김해시_아동안전지킴이집_현황.csv')\n",
    "\"\"\""
   ]
  },
  {
   "cell_type": "code",
   "execution_count": 2,
   "id": "hydraulic-alfred",
   "metadata": {},
   "outputs": [
    {
     "data": {
      "text/html": [
       "<div>\n",
       "<style scoped>\n",
       "    .dataframe tbody tr th:only-of-type {\n",
       "        vertical-align: middle;\n",
       "    }\n",
       "\n",
       "    .dataframe tbody tr th {\n",
       "        vertical-align: top;\n",
       "    }\n",
       "\n",
       "    .dataframe thead th {\n",
       "        text-align: right;\n",
       "    }\n",
       "</style>\n",
       "<table border=\"1\" class=\"dataframe\">\n",
       "  <thead>\n",
       "    <tr style=\"text-align: right;\">\n",
       "      <th></th>\n",
       "      <th>geometry</th>\n",
       "      <th>gid</th>\n",
       "    </tr>\n",
       "  </thead>\n",
       "  <tbody>\n",
       "    <tr>\n",
       "      <th>0</th>\n",
       "      <td>MULTIPOLYGON (((128.85237 35.20590, 128.85239 ...</td>\n",
       "      <td>마라231909</td>\n",
       "    </tr>\n",
       "    <tr>\n",
       "      <th>1</th>\n",
       "      <td>MULTIPOLYGON (((128.76888 35.27623, 128.76889 ...</td>\n",
       "      <td>마라154986</td>\n",
       "    </tr>\n",
       "    <tr>\n",
       "      <th>2</th>\n",
       "      <td>MULTIPOLYGON (((128.83312 35.23767, 128.83313 ...</td>\n",
       "      <td>마라213944</td>\n",
       "    </tr>\n",
       "    <tr>\n",
       "      <th>3</th>\n",
       "      <td>MULTIPOLYGON (((128.71554 35.31194, 128.71555 ...</td>\n",
       "      <td>마마105025</td>\n",
       "    </tr>\n",
       "    <tr>\n",
       "      <th>4</th>\n",
       "      <td>MULTIPOLYGON (((128.82097 35.23420, 128.82099 ...</td>\n",
       "      <td>마라202940</td>\n",
       "    </tr>\n",
       "  </tbody>\n",
       "</table>\n",
       "</div>"
      ],
      "text/plain": [
       "                                            geometry       gid\n",
       "0  MULTIPOLYGON (((128.85237 35.20590, 128.85239 ...  마라231909\n",
       "1  MULTIPOLYGON (((128.76888 35.27623, 128.76889 ...  마라154986\n",
       "2  MULTIPOLYGON (((128.83312 35.23767, 128.83313 ...  마라213944\n",
       "3  MULTIPOLYGON (((128.71554 35.31194, 128.71555 ...  마마105025\n",
       "4  MULTIPOLYGON (((128.82097 35.23420, 128.82099 ...  마라202940"
      ]
     },
     "execution_count": 2,
     "metadata": {},
     "output_type": "execute_result"
    }
   ],
   "source": [
    "from tqdm import tqdm\n",
    "import pandas as pd\n",
    "import numpy as np\n",
    "import geopandas as gpd\n",
    "import seaborn as sns\n",
    "import json\n",
    "import random\n",
    "import folium\n",
    "import matplotlib.pylab as plt\n",
    "%matplotlib inline\n",
    "\n",
    "# MCLP를 위한 선형계획법 툴\n",
    "from pulp import *\n",
    "\n",
    "# 시각화 툴 : Pydeck\n",
    "import pydeck as pdk\n",
    "\n",
    "# 지리 데이터 전처리 툴 : Shapely\n",
    "import shapely.speedups\n",
    "shapely.speedups.enable()\n",
    "from shapely.ops import unary_union\n",
    "from shapely.geometry import Point, MultiLineString, mapping, shape\n",
    "\n",
    "mapbox_key = 'pk.eyJ1IjoicWlxaTY1NCIsImEiOiJja2xnYW0xdWgyMmUyMnVxZWl2NGJpYng3In0.VIYWYBixklc-pAM9w7AjMA'\n",
    "\n",
    "import warnings\n",
    "warnings.filterwarnings(action='ignore')\n",
    "\n",
    "pd.set_option('display.max_rows', 100)\n",
    "pd.set_option('display.max_columns', 200)\n",
    "kimhae = gpd.read_file('data/14.김해시_법정경계(읍면동).geojson')\n",
    "kimhae['coordinates'] = kimhae['geometry'].apply(lambda x : mapping(x)['coordinates'][0])\n",
    "kimhae.head()\n",
    "# 김해 중심 위경도\n",
    "center = [35.2415354, 128.8447851] \n",
    "\n",
    "base = pdk.Layer(\n",
    "    'PolygonLayer', # 사용할 Layer 타입\n",
    "    kimhae, # 시각화에 쓰일 데이터프레임\n",
    "    get_polygon='coordinates', # geometry 정보를 담고있는 컬럼 이름\n",
    "    get_fill_color='[255, 255, 255]', # 각 데이터 별 rgb 또는 rgba 값 (0~255)\n",
    "    opacity = 0.005\n",
    ")\n",
    "grid = gpd.read_file('data/5.김해시_격자(100X100).geojson')\n",
    "df_grid = gpd.GeoDataFrame.from_features(grid)\n",
    "df_grid.head()"
   ]
  },
  {
   "cell_type": "code",
   "execution_count": 3,
   "id": "personalized-grounds",
   "metadata": {},
   "outputs": [
    {
     "data": {
      "text/html": [
       "<div>\n",
       "<style scoped>\n",
       "    .dataframe tbody tr th:only-of-type {\n",
       "        vertical-align: middle;\n",
       "    }\n",
       "\n",
       "    .dataframe tbody tr th {\n",
       "        vertical-align: top;\n",
       "    }\n",
       "\n",
       "    .dataframe thead th {\n",
       "        text-align: right;\n",
       "    }\n",
       "</style>\n",
       "<table border=\"1\" class=\"dataframe\">\n",
       "  <thead>\n",
       "    <tr style=\"text-align: right;\">\n",
       "      <th></th>\n",
       "      <th>gid</th>\n",
       "      <th>year</th>\n",
       "      <th>cctv_n_points</th>\n",
       "    </tr>\n",
       "  </thead>\n",
       "  <tbody>\n",
       "    <tr>\n",
       "      <th>654</th>\n",
       "      <td>마라099989</td>\n",
       "      <td>2020</td>\n",
       "      <td>2</td>\n",
       "    </tr>\n",
       "    <tr>\n",
       "      <th>40</th>\n",
       "      <td>마라099991</td>\n",
       "      <td>2015</td>\n",
       "      <td>2</td>\n",
       "    </tr>\n",
       "    <tr>\n",
       "      <th>835</th>\n",
       "      <td>마라100999</td>\n",
       "      <td>2015</td>\n",
       "      <td>1</td>\n",
       "    </tr>\n",
       "    <tr>\n",
       "      <th>836</th>\n",
       "      <td>마라100999</td>\n",
       "      <td>2013</td>\n",
       "      <td>1</td>\n",
       "    </tr>\n",
       "    <tr>\n",
       "      <th>2424</th>\n",
       "      <td>마라103976</td>\n",
       "      <td>2020</td>\n",
       "      <td>3</td>\n",
       "    </tr>\n",
       "    <tr>\n",
       "      <th>...</th>\n",
       "      <td>...</td>\n",
       "      <td>...</td>\n",
       "      <td>...</td>\n",
       "    </tr>\n",
       "    <tr>\n",
       "      <th>2442</th>\n",
       "      <td>마마344009</td>\n",
       "      <td>2021</td>\n",
       "      <td>2</td>\n",
       "    </tr>\n",
       "    <tr>\n",
       "      <th>3142</th>\n",
       "      <td>마마346000</td>\n",
       "      <td>2018</td>\n",
       "      <td>1</td>\n",
       "    </tr>\n",
       "    <tr>\n",
       "      <th>858</th>\n",
       "      <td>마마346005</td>\n",
       "      <td>2019</td>\n",
       "      <td>3</td>\n",
       "    </tr>\n",
       "    <tr>\n",
       "      <th>934</th>\n",
       "      <td>마마346008</td>\n",
       "      <td>2017</td>\n",
       "      <td>1</td>\n",
       "    </tr>\n",
       "    <tr>\n",
       "      <th>935</th>\n",
       "      <td>마마346008</td>\n",
       "      <td>2018</td>\n",
       "      <td>1</td>\n",
       "    </tr>\n",
       "  </tbody>\n",
       "</table>\n",
       "<p>1599 rows × 3 columns</p>\n",
       "</div>"
      ],
      "text/plain": [
       "           gid  year  cctv_n_points\n",
       "654   마라099989  2020              2\n",
       "40    마라099991  2015              2\n",
       "835   마라100999  2015              1\n",
       "836   마라100999  2013              1\n",
       "2424  마라103976  2020              3\n",
       "...        ...   ...            ...\n",
       "2442  마마344009  2021              2\n",
       "3142  마마346000  2018              1\n",
       "858   마마346005  2019              3\n",
       "934   마마346008  2017              1\n",
       "935   마마346008  2018              1\n",
       "\n",
       "[1599 rows x 3 columns]"
      ]
     },
     "execution_count": 3,
     "metadata": {},
     "output_type": "execute_result"
    }
   ],
   "source": [
    "cctv = pd.read_csv('data/1.김해시_CCTV설치현황.csv')\n",
    "\n",
    "cctv['date'] = pd.to_datetime(cctv['install_ym'])\n",
    "cctv['year'] = pd.DatetimeIndex(cctv['date']).year\n",
    "cctv['month'] = pd.DatetimeIndex(cctv['date']).month\n",
    "\n",
    "cctv.drop(labels='date',axis=1, inplace=True)\n",
    "cctv = gpd.GeoDataFrame(cctv, geometry=cctv.loc[:,[\"lon\",\"lat\",]].apply(shapely.geometry.Point, axis=1))\n",
    "\n",
    "df_cctv = gpd.sjoin(df_grid,cctv)\n",
    "df_cctv.head()\n",
    "df_cctv=df_cctv.merge(\n",
    "    df_cctv.groupby(['gid','year']).count().geometry.rename('cctv_n_points').reset_index())\n",
    "df_cctv = df_cctv[['gid','year','cctv_n_points']]\n",
    "df_cctv.drop_duplicates(subset=None, keep='first', inplace=True, ignore_index=False)\n",
    "df_cctv.head()\n",
    "df_cctv.sort_values('gid')"
   ]
  },
  {
   "cell_type": "code",
   "execution_count": null,
   "id": "sublime-lesbian",
   "metadata": {},
   "outputs": [],
   "source": [
    "police = pd.read_csv('data/4.김해시_112신고이력(격자매핑).csv')\n",
    "\n",
    "police['rec_date'] = police['rec_date'].astype(str)\n",
    "police['date'] = pd.to_datetime(police['rec_date'])\n",
    "police['year'] = pd.DatetimeIndex(police['date']).year\n",
    "police['month'] = pd.DatetimeIndex(police['date']).month\n",
    "police['day'] = pd.DatetimeIndex(police['date']).day\n",
    "\n",
    "police.drop(labels='date',axis=1, inplace=True)\n",
    "police = gpd.GeoDataFrame(police, geometry=cctv.loc[:,[\"lon\",\"lat\",]].apply(shapely.geometry.Point, axis=1))\n",
    "\n",
    "police.head()"
   ]
  },
  {
   "cell_type": "code",
   "execution_count": null,
   "id": "grand-disabled",
   "metadata": {},
   "outputs": [],
   "source": [
    "police2 = police['case_type'].isin(['살인','강도','치기','절도','납치감금','성폭력','가정폭력','아동학대(가정내)','아동학대(기타)'\n",
    "                                   ,'데이트폭력'])\n",
    "a=police.loc[police2]\n",
    "a"
   ]
  },
  {
   "cell_type": "code",
   "execution_count": null,
   "id": "encouraging-atlanta",
   "metadata": {},
   "outputs": [],
   "source": [
    "police['year']"
   ]
  },
  {
   "cell_type": "code",
   "execution_count": null,
   "id": "practical-blast",
   "metadata": {},
   "outputs": [],
   "source": [
    "df_police=a.merge(\n",
    "    a.groupby(['gid','year']).count().rec_time.rename('police_n_points').reset_index())\n",
    "df_police = df_police[['gid','year','police_n_points']]\n",
    "df_police.drop_duplicates(subset=None, keep='first', inplace=True, ignore_index=False)\n",
    "df_police.drop_duplicates(subset=None, keep='first', inplace=True, ignore_index=False)\n",
    "df_police.head()"
   ]
  },
  {
   "cell_type": "code",
   "execution_count": null,
   "id": "operational-sense",
   "metadata": {},
   "outputs": [],
   "source": [
    "#2018년 cctv와 112신고건수 "
   ]
  },
  {
   "cell_type": "code",
   "execution_count": null,
   "id": "sought-collaboration",
   "metadata": {},
   "outputs": [],
   "source": [
    "a=df_cctv[df_cctv['year']==2018]\n",
    "b=df_police[df_police['year']==2018]\n",
    "A=pd.merge(a,b,how='outer',on='gid')\n",
    "A"
   ]
  },
  {
   "cell_type": "code",
   "execution_count": null,
   "id": "concerned-collar",
   "metadata": {},
   "outputs": [],
   "source": [
    "#2019년 cctv와 112신고건수"
   ]
  },
  {
   "cell_type": "code",
   "execution_count": null,
   "id": "affected-arrangement",
   "metadata": {},
   "outputs": [],
   "source": [
    "c=df_cctv[df_cctv['year']==2019]\n",
    "d=df_police[df_police['year']==2019]\n",
    "B=pd.merge(c,d,how='outer',on='gid')\n",
    "B"
   ]
  },
  {
   "cell_type": "code",
   "execution_count": null,
   "id": "limited-borough",
   "metadata": {},
   "outputs": [],
   "source": [
    "X=pd.merge(B,A,how='left',on='gid')\n",
    "X=pd.DataFrame(X)\n",
    "X"
   ]
  },
  {
   "cell_type": "code",
   "execution_count": null,
   "id": "collect-coverage",
   "metadata": {},
   "outputs": [],
   "source": [
    "#X['police_n_points_x']=X['police_n_points_x'].fillna(0)\n",
    "#X['police_n_points_y']=X['police_n_points_y'].fillna(0)\n",
    "X['cctv_n_points_x']=X['cctv_n_points_x'].fillna(0)\n",
    "X['cctv_n_points_y']=X['cctv_n_points_y'].fillna(0)\n",
    "condition3=X['cctv_n_points_x']<1\n",
    "X[condition3]\n",
    "c=X[condition3].index\n",
    "X.drop(c,inplace=True)\n",
    "X['gap']=X['police_n_points_x']-X['police_n_points_y']\n",
    "X"
   ]
  },
  {
   "cell_type": "code",
   "execution_count": null,
   "id": "third-madison",
   "metadata": {
    "scrolled": true
   },
   "outputs": [],
   "source": [
    "X['gap'].describe()"
   ]
  },
  {
   "cell_type": "code",
   "execution_count": null,
   "id": "operational-olympus",
   "metadata": {},
   "outputs": [],
   "source": [
    "#2018,2019년 112신고 건수 차이 이상치 제거 "
   ]
  },
  {
   "cell_type": "code",
   "execution_count": null,
   "id": "necessary-craft",
   "metadata": {},
   "outputs": [],
   "source": [
    "q1=X['gap'].quantile(0.25)\n",
    "q2=X['gap'].quantile(0.5)\n",
    "q3=X['gap'].quantile(0.75)\n",
    "iqr=q3-q1\n",
    "condition=X['gap']>q3+1.5*iqr\n",
    "a=X[condition].index\n",
    "X.drop(a,inplace=True)\n",
    "condition2=X['gap']<q1-iqr*1.5\n",
    "X[condition2]\n",
    "b=X[condition2].index\n",
    "X.drop(b,inplace=True)\n",
    "X"
   ]
  },
  {
   "cell_type": "code",
   "execution_count": null,
   "id": "approximate-relay",
   "metadata": {},
   "outputs": [],
   "source": [
    "#2019년 cctv설치 효과 분석 "
   ]
  },
  {
   "cell_type": "code",
   "execution_count": null,
   "id": "annoying-draft",
   "metadata": {},
   "outputs": [],
   "source": [
    "X['gap'].describe()"
   ]
  },
  {
   "cell_type": "code",
   "execution_count": null,
   "id": "broadband-vancouver",
   "metadata": {},
   "outputs": [],
   "source": [
    "e=df_cctv[df_cctv['year']==2020]\n",
    "f=df_police[df_police['year']==2020]\n",
    "C=pd.merge(e,f,how='outer',on='gid')\n",
    "C"
   ]
  },
  {
   "cell_type": "code",
   "execution_count": null,
   "id": "permanent-settlement",
   "metadata": {},
   "outputs": [],
   "source": [
    "Y=pd.merge(C,B,how='left',on='gid')\n",
    "Y"
   ]
  },
  {
   "cell_type": "code",
   "execution_count": null,
   "id": "quick-saskatchewan",
   "metadata": {},
   "outputs": [],
   "source": [
    "#2019,2020년 112신고와 cctv 설치 건수 "
   ]
  },
  {
   "cell_type": "code",
   "execution_count": null,
   "id": "unnecessary-limitation",
   "metadata": {},
   "outputs": [],
   "source": [
    "#Y['police_n_points_x']=Y['police_n_points_x'].fillna(0)\n",
    "#Y['police_n_points_y']=Y['police_n_points_y'].fillna(0)\n",
    "Y['gap']=Y['police_n_points_x']-Y['police_n_points_y']\n",
    "Y"
   ]
  },
  {
   "cell_type": "code",
   "execution_count": null,
   "id": "minus-finish",
   "metadata": {},
   "outputs": [],
   "source": [
    "Y['gap'].describe()"
   ]
  },
  {
   "cell_type": "code",
   "execution_count": null,
   "id": "governmental-trash",
   "metadata": {},
   "outputs": [],
   "source": [
    "#이상치제거\n",
    "q1=Y['gap'].quantile(0.25)\n",
    "q2=Y['gap'].quantile(0.5)\n",
    "q3=Y['gap'].quantile(0.75)\n",
    "iqr=q3-q1\n",
    "condition=Y['gap']>q3+1.5*iqr\n",
    "Y[condition]\n",
    "a=Y[condition].index\n",
    "Y.drop(a,inplace=True)\n",
    "condition2=Y['gap']<q1-iqr*1.5\n",
    "Y[condition2]\n",
    "b=Y[condition2].index\n",
    "Y.drop(b,inplace=True)\n",
    "Y"
   ]
  },
  {
   "cell_type": "code",
   "execution_count": null,
   "id": "concerned-cologne",
   "metadata": {},
   "outputs": [],
   "source": [
    "#2020년 cctv설치 효과 분석"
   ]
  },
  {
   "cell_type": "code",
   "execution_count": null,
   "id": "historical-seller",
   "metadata": {},
   "outputs": [],
   "source": [
    "Y['gap'].describe()"
   ]
  },
  {
   "cell_type": "code",
   "execution_count": null,
   "id": "practical-springer",
   "metadata": {},
   "outputs": [],
   "source": [
    "g=df_cctv[df_cctv['year']==2021]\n",
    "h=df_police[df_police['year']==2021]\n",
    "D=pd.merge(g,h,how='outer',on='gid')\n",
    "D\n",
    "Z=pd.merge(D,C,how='outer',on='gid')\n",
    "Z"
   ]
  },
  {
   "cell_type": "code",
   "execution_count": null,
   "id": "charitable-shift",
   "metadata": {},
   "outputs": [],
   "source": [
    "#Z['police_n_points_x']=Z['police_n_points_x'].fillna(0)\n",
    "#Z['police_n_points_y']=Z['police_n_points_y'].fillna(0)\n",
    "Z['gap']=Z['police_n_points_x']-Z['police_n_points_y']\n",
    "Z"
   ]
  },
  {
   "cell_type": "code",
   "execution_count": null,
   "id": "announced-director",
   "metadata": {},
   "outputs": [],
   "source": [
    "Z['gap'].describe()"
   ]
  },
  {
   "cell_type": "code",
   "execution_count": null,
   "id": "rapid-insulin",
   "metadata": {},
   "outputs": [],
   "source": [
    "#이상치 제거 "
   ]
  },
  {
   "cell_type": "code",
   "execution_count": null,
   "id": "organizational-society",
   "metadata": {},
   "outputs": [],
   "source": [
    "q1=Z['gap'].quantile(0.25)\n",
    "q2=Z['gap'].quantile(0.5)\n",
    "q3=Z['gap'].quantile(0.75)\n",
    "iqr=q3-q1\n",
    "condition=Z['gap']>q3+1.5*iqr\n",
    "a=Z[condition].index\n",
    "Z.drop(a,inplace=True)\n",
    "condition2=Z['gap']<q1-iqr*1.5\n",
    "Z[condition2]\n",
    "b=Z[condition2].index\n",
    "Z.drop(b,inplace=True)\n",
    "Z"
   ]
  },
  {
   "cell_type": "code",
   "execution_count": null,
   "id": "periodic-anderson",
   "metadata": {},
   "outputs": [],
   "source": [
    "#2021년 cctv설치 효과 분석"
   ]
  },
  {
   "cell_type": "code",
   "execution_count": null,
   "id": "technical-given",
   "metadata": {},
   "outputs": [],
   "source": [
    "Z['gap'].describe()"
   ]
  },
  {
   "cell_type": "code",
   "execution_count": null,
   "id": "golden-walnut",
   "metadata": {},
   "outputs": [],
   "source": []
  }
 ],
 "metadata": {
  "kernelspec": {
   "display_name": "Python 3",
   "language": "python",
   "name": "python3"
  },
  "language_info": {
   "codemirror_mode": {
    "name": "ipython",
    "version": 3
   },
   "file_extension": ".py",
   "mimetype": "text/x-python",
   "name": "python",
   "nbconvert_exporter": "python",
   "pygments_lexer": "ipython3",
   "version": "3.6.9"
  }
 },
 "nbformat": 4,
 "nbformat_minor": 5
}
